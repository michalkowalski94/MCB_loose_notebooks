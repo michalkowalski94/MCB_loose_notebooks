{
 "cells": [
  {
   "cell_type": "markdown",
   "metadata": {},
   "source": [
    "# ERBI Image Analysis - baseline exploratory data analysis"
   ]
  },
  {
   "cell_type": "markdown",
   "metadata": {},
   "source": [
    "## Package loading"
   ]
  },
  {
   "cell_type": "code",
   "execution_count": 12,
   "metadata": {},
   "outputs": [],
   "source": [
    "import os\n",
    "import pandas as pd\n",
    "import numpy as np\n",
    "import matplotlib as mpl\n",
    "import seaborn as sns\n",
    "import imageio\n",
    "from collections import Counter\n",
    "import statsmodels.stats.power as pwr\n",
    "from tqdm import tqdm"
   ]
  },
  {
   "cell_type": "markdown",
   "metadata": {},
   "source": [
    "## Loading metadata"
   ]
  },
  {
   "cell_type": "code",
   "execution_count": 2,
   "metadata": {},
   "outputs": [
    {
     "name": "stdout",
     "output_type": "stream",
     "text": [
      "D:\\MCB\\Arpan\n",
      "(5157, 10)\n"
     ]
    },
    {
     "data": {
      "text/html": [
       "<div>\n",
       "<style scoped>\n",
       "    .dataframe tbody tr th:only-of-type {\n",
       "        vertical-align: middle;\n",
       "    }\n",
       "\n",
       "    .dataframe tbody tr th {\n",
       "        vertical-align: top;\n",
       "    }\n",
       "\n",
       "    .dataframe thead th {\n",
       "        text-align: right;\n",
       "    }\n",
       "</style>\n",
       "<table border=\"1\" class=\"dataframe\">\n",
       "  <thead>\n",
       "    <tr style=\"text-align: right;\">\n",
       "      <th></th>\n",
       "      <th>SampleID</th>\n",
       "      <th>date</th>\n",
       "      <th>genotype</th>\n",
       "      <th>tissue_type</th>\n",
       "      <th>dop</th>\n",
       "      <th>parameter</th>\n",
       "      <th>batch</th>\n",
       "      <th>replicate</th>\n",
       "      <th>plant_no</th>\n",
       "      <th>z_axis</th>\n",
       "    </tr>\n",
       "  </thead>\n",
       "  <tbody>\n",
       "    <tr>\n",
       "      <th>1</th>\n",
       "      <td>20190606_gfph_cot_dop-8_param1_b1_r1_1_z00</td>\n",
       "      <td>20190606</td>\n",
       "      <td>gfph</td>\n",
       "      <td>cot</td>\n",
       "      <td>dop-8</td>\n",
       "      <td>param1</td>\n",
       "      <td>b1</td>\n",
       "      <td>r1</td>\n",
       "      <td>1</td>\n",
       "      <td>z00</td>\n",
       "    </tr>\n",
       "    <tr>\n",
       "      <th>2</th>\n",
       "      <td>20190606_gfph_cot_dop-8_param1_b1_r1_1_z01</td>\n",
       "      <td>20190606</td>\n",
       "      <td>gfph</td>\n",
       "      <td>cot</td>\n",
       "      <td>dop-8</td>\n",
       "      <td>param1</td>\n",
       "      <td>b1</td>\n",
       "      <td>r1</td>\n",
       "      <td>1</td>\n",
       "      <td>z01</td>\n",
       "    </tr>\n",
       "    <tr>\n",
       "      <th>3</th>\n",
       "      <td>20190606_gfph_cot_dop-8_param1_b1_r1_1_z02</td>\n",
       "      <td>20190606</td>\n",
       "      <td>gfph</td>\n",
       "      <td>cot</td>\n",
       "      <td>dop-8</td>\n",
       "      <td>param1</td>\n",
       "      <td>b1</td>\n",
       "      <td>r1</td>\n",
       "      <td>1</td>\n",
       "      <td>z02</td>\n",
       "    </tr>\n",
       "    <tr>\n",
       "      <th>4</th>\n",
       "      <td>20190606_gfph_cot_dop-8_param1_b1_r1_1_z03</td>\n",
       "      <td>20190606</td>\n",
       "      <td>gfph</td>\n",
       "      <td>cot</td>\n",
       "      <td>dop-8</td>\n",
       "      <td>param1</td>\n",
       "      <td>b1</td>\n",
       "      <td>r1</td>\n",
       "      <td>1</td>\n",
       "      <td>z03</td>\n",
       "    </tr>\n",
       "    <tr>\n",
       "      <th>5</th>\n",
       "      <td>20190606_gfph_cot_dop-8_param1_b1_r1_1_z04</td>\n",
       "      <td>20190606</td>\n",
       "      <td>gfph</td>\n",
       "      <td>cot</td>\n",
       "      <td>dop-8</td>\n",
       "      <td>param1</td>\n",
       "      <td>b1</td>\n",
       "      <td>r1</td>\n",
       "      <td>1</td>\n",
       "      <td>z04</td>\n",
       "    </tr>\n",
       "  </tbody>\n",
       "</table>\n",
       "</div>"
      ],
      "text/plain": [
       "                                     SampleID      date genotype tissue_type  \\\n",
       "1  20190606_gfph_cot_dop-8_param1_b1_r1_1_z00  20190606     gfph         cot   \n",
       "2  20190606_gfph_cot_dop-8_param1_b1_r1_1_z01  20190606     gfph         cot   \n",
       "3  20190606_gfph_cot_dop-8_param1_b1_r1_1_z02  20190606     gfph         cot   \n",
       "4  20190606_gfph_cot_dop-8_param1_b1_r1_1_z03  20190606     gfph         cot   \n",
       "5  20190606_gfph_cot_dop-8_param1_b1_r1_1_z04  20190606     gfph         cot   \n",
       "\n",
       "     dop parameter batch replicate  plant_no z_axis  \n",
       "1  dop-8    param1    b1        r1         1    z00  \n",
       "2  dop-8    param1    b1        r1         1    z01  \n",
       "3  dop-8    param1    b1        r1         1    z02  \n",
       "4  dop-8    param1    b1        r1         1    z03  \n",
       "5  dop-8    param1    b1        r1         1    z04  "
      ]
     },
     "execution_count": 2,
     "metadata": {},
     "output_type": "execute_result"
    }
   ],
   "source": [
    "print(os.getcwd())\n",
    "files_ = os.listdir()\n",
    "meta = pd.read_csv(files_[1], sep = \"\\t\")\n",
    "print(meta.shape)\n",
    "meta.head()"
   ]
  },
  {
   "cell_type": "markdown",
   "metadata": {},
   "source": [
    "## Checking the base meta parameters"
   ]
  },
  {
   "cell_type": "code",
   "execution_count": 3,
   "metadata": {},
   "outputs": [
    {
     "name": "stdout",
     "output_type": "stream",
     "text": [
      "Counter({'param1': 2791, 'param2': 2366})\n"
     ]
    }
   ],
   "source": [
    "parameters = Counter(meta.parameter)\n",
    "print(parameters)"
   ]
  },
  {
   "cell_type": "code",
   "execution_count": 4,
   "metadata": {},
   "outputs": [
    {
     "name": "stdout",
     "output_type": "stream",
     "text": [
      "Counter({'z04': 235, 'z05': 235, 'z06': 235, 'z07': 235, 'z08': 235, 'z09': 235, 'z10': 235, 'z11': 235, 'z12': 234, 'z13': 233, 'z14': 231, 'z15': 226, 'z16': 222, 'z17': 212, 'z18': 203, 'z20': 189, 'z19': 185, 'z21': 143, 'z22': 124, 'z00': 118, 'z01': 118, 'z02': 118, 'z03': 118, 'z23': 107, 'z24': 89, 'z25': 81, 'z26': 66, 'z27': 55, 'z28': 43, 'z29': 31, 'z30': 24, 'z31': 20, 'z32': 16, 'z33': 12, 'z34': 9, 'z35': 7, 'z36': 5, 'z37': 5, 'z38': 5, 'z39': 5, 'z40': 5, 'z41': 2, 'z42': 1, 'z43': 1, 'z44': 1, 'z45': 1, 'z46': 1, 'z47': 1, 'z48': 1, 'z49': 1, 'z50': 1, 'z51': 1, 'z52': 1, 'z53': 1, 'z54': 1, 'z55': 1, 'z56': 1, 'z57': 1})\n"
     ]
    }
   ],
   "source": [
    "z_levels = Counter(meta.z_axis)\n",
    "print(z_levels)\n"
   ]
  },
  {
   "cell_type": "code",
   "execution_count": 5,
   "metadata": {},
   "outputs": [
    {
     "name": "stdout",
     "output_type": "stream",
     "text": [
      "Counter({'cot': 5157})\n"
     ]
    }
   ],
   "source": [
    "tissue = Counter(meta.tissue_type)\n",
    "print(tissue)\n"
   ]
  },
  {
   "cell_type": "code",
   "execution_count": 6,
   "metadata": {},
   "outputs": [
    {
     "name": "stdout",
     "output_type": "stream",
     "text": [
      "Counter({'gfph': 2902, 'nai1-gfph': 2255})\n"
     ]
    }
   ],
   "source": [
    "genotype = Counter(meta.genotype)\n",
    "print(genotype)"
   ]
  },
  {
   "cell_type": "code",
   "execution_count": 7,
   "metadata": {},
   "outputs": [
    {
     "name": "stdout",
     "output_type": "stream",
     "text": [
      "Counter({1: 1077, 3: 1003, 4: 1000, 2: 964, 5: 943, 8: 47, 7: 42, 6: 41, 10: 20, 9: 20})\n"
     ]
    }
   ],
   "source": [
    "No_plants = Counter(meta.plant_no)\n",
    "print(No_plants)"
   ]
  },
  {
   "cell_type": "code",
   "execution_count": 8,
   "metadata": {},
   "outputs": [
    {
     "name": "stdout",
     "output_type": "stream",
     "text": [
      "Counter({'b3': 1047, 'b7': 663, 'b8': 557, 'b6': 496, 'b2': 487, 'b9': 450, 'b1': 448, 'b5': 373, 'b4': 331, 'b10': 305})\n"
     ]
    }
   ],
   "source": [
    "batch = Counter(meta.batch)\n",
    "print(batch)"
   ]
  },
  {
   "cell_type": "code",
   "execution_count": 9,
   "metadata": {},
   "outputs": [
    {
     "name": "stdout",
     "output_type": "stream",
     "text": [
      "Counter({'r1': 2357, 'r2': 1704, 'r3': 692, 'r4': 218, 'r5': 186})\n"
     ]
    }
   ],
   "source": [
    "replicate = Counter(meta.replicate)\n",
    "print(replicate)"
   ]
  },
  {
   "cell_type": "markdown",
   "metadata": {},
   "source": [
    "## Summary of basic counting\n",
    "\n",
    "The current best possible scenario right now:\n",
    "\n",
    "- 2366 merged channel photos\n",
    "- 11 z-stacks per sample\n",
    "-  ~215 3D samples in total in training dataset !"
   ]
  },
  {
   "cell_type": "markdown",
   "metadata": {},
   "source": [
    "## POWER in current best possible scenario - Study Design\n"
   ]
  },
  {
   "cell_type": "markdown",
   "metadata": {},
   "source": [
    "### Finding the aligned param1 & param2 photographs"
   ]
  },
  {
   "cell_type": "code",
   "execution_count": 10,
   "metadata": {},
   "outputs": [
    {
     "data": {
      "text/plain": [
       "5157"
      ]
     },
     "execution_count": 10,
     "metadata": {},
     "output_type": "execute_result"
    }
   ],
   "source": [
    "meta.shape[0]"
   ]
  },
  {
   "cell_type": "code",
   "execution_count": 13,
   "metadata": {},
   "outputs": [
    {
     "name": "stderr",
     "output_type": "stream",
     "text": [
      "100%|███████████████████████████████████████████████████████████████████████████| 5157/5157 [00:00<00:00, 17351.72it/s]\n"
     ]
    }
   ],
   "source": [
    "photos_list = []\n",
    "for i in tqdm(range(meta.shape[0])):\n",
    "    photo = str(meta.iloc[i,1]) + str(meta.iloc[i,2]) + str(meta.iloc[i,3]) + str(meta.iloc[i,4]) + str(meta.iloc[i,5]) + str(meta.iloc[i,6]) + str(meta.iloc[i,7]) + str(meta.iloc[i,8])\n",
    "    photos_list.append(photo)"
   ]
  },
  {
   "cell_type": "code",
   "execution_count": 30,
   "metadata": {},
   "outputs": [
    {
     "name": "stdout",
     "output_type": "stream",
     "text": [
      "Estimated amount of aligned complete samples in dataset = 116\n"
     ]
    }
   ],
   "source": [
    "photo_count = dict(Counter(photos_list))\n",
    "proper_photos_list = []\n",
    "for k,v in photo_count.items():\n",
    "    if v >= 11:\n",
    "        proper_photos_list.append(k)\n",
    "print(\"Estimated amount of aligned complete samples in dataset = \" + str(len(proper_photos_list)//2))\n",
    "    "
   ]
  },
  {
   "cell_type": "markdown",
   "metadata": {},
   "source": [
    "### Finding the proporion of classes"
   ]
  },
  {
   "cell_type": "code",
   "execution_count": 15,
   "metadata": {},
   "outputs": [
    {
     "name": "stdout",
     "output_type": "stream",
     "text": [
      "Number of samples in positive class = 59\n",
      "Number of samples in negative class = 56\n"
     ]
    }
   ],
   "source": [
    "positive = 0\n",
    "negative = 0\n",
    "for item in proper_photos_list:\n",
    "    if 'nai1-gfph' in item:\n",
    "        negative += 1\n",
    "    else:\n",
    "        positive +=1\n",
    "print(\"Number of samples in positive class = \" + str(positive//2))\n",
    "print(\"Number of samples in negative class = \" + str(negative//2))\n",
    "    "
   ]
  },
  {
   "cell_type": "markdown",
   "metadata": {},
   "source": [
    "### Sample size computation"
   ]
  },
  {
   "cell_type": "code",
   "execution_count": 33,
   "metadata": {},
   "outputs": [],
   "source": [
    "effect_size = positive/(positive + negative)\n",
    "alpha = 0.05\n",
    "power = 0.8\n",
    "power_analysis = pwr.FTestPower()"
   ]
  },
  {
   "cell_type": "code",
   "execution_count": 34,
   "metadata": {},
   "outputs": [
    {
     "name": "stdout",
     "output_type": "stream",
     "text": [
      "Required sample size: 129.22\n"
     ]
    }
   ],
   "source": [
    "sample_size = power_analysis.solve_power(effect_size = effect_size,\n",
    "                                        df_denom = ((positive + negative)//2)-1 ,\n",
    "                                        power = power,\n",
    "                                        alpha = alpha)\n",
    "print('Required sample size: {0:.2f}'.format(sample_size))"
   ]
  },
  {
   "cell_type": "markdown",
   "metadata": {},
   "source": [
    "# CONCLUSION\n",
    "\n",
    "- For single parameter logistic regression on such data, sample size must be equal to 130 per class\n",
    "- Number for 3D Convolutional Neural Network is highly insufficient\n",
    "- The best way for obtaining baseline model for binary classification is to multiply number of samples at least by 10e2 (best 10e3 OR 10e4)"
   ]
  }
 ],
 "metadata": {
  "kernelspec": {
   "display_name": "Python 3",
   "language": "python",
   "name": "python3"
  },
  "language_info": {
   "codemirror_mode": {
    "name": "ipython",
    "version": 3
   },
   "file_extension": ".py",
   "mimetype": "text/x-python",
   "name": "python",
   "nbconvert_exporter": "python",
   "pygments_lexer": "ipython3",
   "version": "3.6.8"
  }
 },
 "nbformat": 4,
 "nbformat_minor": 4
}
